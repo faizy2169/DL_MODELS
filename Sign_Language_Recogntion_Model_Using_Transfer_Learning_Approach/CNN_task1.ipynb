{
  "cells": [
    {
      "cell_type": "code",
      "execution_count": null,
      "metadata": {
        "id": "xjLgBco-KLWd"
      },
      "outputs": [],
      "source": [
        "import numpy as np\n",
        "from tensorflow import keras\n",
        "from keras import layers\n",
        "from keras import models\n",
        "from sklearn.model_selection import train_test_split\n",
        "from tensorflow.python.keras.callbacks import History\n",
        "from keras import optimizers\n",
        "import matplotlib.pyplot as plt\n"
      ]
    },
    {
      "cell_type": "markdown",
      "source": [
        "# **Loading Data**"
      ],
      "metadata": {
        "id": "3gtB56hPG6DJ"
      }
    },
    {
      "cell_type": "code",
      "execution_count": null,
      "metadata": {
        "id": "cfm4Y6gdKpi9"
      },
      "outputs": [],
      "source": [
        "X=np.load(\"/content/drive/MyDrive/sign/X.npy\")\n",
        "Y=np.load(\"/content/drive/MyDrive/sign/Y.npy\")"
      ]
    },
    {
      "cell_type": "markdown",
      "source": [
        "# **Splitting Data into training, testing and validation**"
      ],
      "metadata": {
        "id": "KtgTc4Z_HAEq"
      }
    },
    {
      "cell_type": "code",
      "execution_count": null,
      "metadata": {
        "id": "hM3CXaxxK0Xr"
      },
      "outputs": [],
      "source": [
        "x_train, x_rem, y_train, y_rem = train_test_split(X,Y, train_size=0.8)\n",
        "x_valid, x_test, y_valid, y_test=train_test_split(x_rem,y_rem, test_size=0.5)"
      ]
    },
    {
      "cell_type": "markdown",
      "source": [
        "# **Model Architecture**"
      ],
      "metadata": {
        "id": "DvisvZdrHIp_"
      }
    },
    {
      "cell_type": "code",
      "execution_count": null,
      "metadata": {
        "id": "ftz2mpewLQXy"
      },
      "outputs": [],
      "source": [
        "model = models.Sequential()\n",
        "model.add(layers.Conv2D(32, (3, 3), activation='relu', input_shape=(64, 64, 1)))\n",
        "model.add(layers.MaxPooling2D((2, 2)))\n",
        "model.add(layers.Conv2D(64, (3, 3), activation='relu'))\n",
        "model.add(layers.MaxPooling2D((2, 2)))\n",
        "model.add(layers.Conv2D(128, (3, 3), activation='relu'))\n",
        "model.add(layers.MaxPooling2D((2, 2)))\n",
        "model.add(layers.Conv2D(128, (3, 3), activation='relu'))\n",
        "model.add(layers.MaxPooling2D((2, 2)))\n",
        "model.add(layers.Flatten())\n",
        "model.add(layers.Dense(1024, activation='relu'))\n",
        "model.add(layers.Dense(10, activation='softmax'))"
      ]
    },
    {
      "cell_type": "markdown",
      "source": [
        "# **Model Configuration**"
      ],
      "metadata": {
        "id": "999Nu_QCHNfF"
      }
    },
    {
      "cell_type": "code",
      "execution_count": null,
      "metadata": {
        "id": "RfZIjF5ELrhX"
      },
      "outputs": [],
      "source": [
        "model.compile(loss='categorical_crossentropy',optimizer='rmsprop', metrics=['acc'])"
      ]
    },
    {
      "cell_type": "markdown",
      "source": [
        "# **Model Training**"
      ],
      "metadata": {
        "id": "7KAfvK8oHT2w"
      }
    },
    {
      "cell_type": "code",
      "execution_count": null,
      "metadata": {
        "colab": {
          "base_uri": "https://localhost:8080/"
        },
        "id": "-CirKnZEMSbm",
        "outputId": "172fff85-f6bd-4314-8fd9-39b5746dd895"
      },
      "outputs": [
        {
          "output_type": "stream",
          "name": "stdout",
          "text": [
            "Epoch 1/10\n",
            "83/83 [==============================] - 21s 240ms/step - loss: 2.3061 - acc: 0.1152 - val_loss: 2.2424 - val_acc: 0.2427\n",
            "Epoch 2/10\n",
            "83/83 [==============================] - 13s 151ms/step - loss: 1.3691 - acc: 0.5106 - val_loss: 0.6762 - val_acc: 0.7913\n",
            "Epoch 3/10\n",
            "83/83 [==============================] - 12s 142ms/step - loss: 0.5054 - acc: 0.8217 - val_loss: 0.4422 - val_acc: 0.8204\n",
            "Epoch 4/10\n",
            "83/83 [==============================] - 12s 139ms/step - loss: 0.2535 - acc: 0.9181 - val_loss: 0.3113 - val_acc: 0.8883\n",
            "Epoch 5/10\n",
            "83/83 [==============================] - 12s 139ms/step - loss: 0.1592 - acc: 0.9460 - val_loss: 0.2364 - val_acc: 0.9223\n",
            "Epoch 6/10\n",
            "83/83 [==============================] - 11s 138ms/step - loss: 0.1077 - acc: 0.9697 - val_loss: 0.1225 - val_acc: 0.9563\n",
            "Epoch 7/10\n",
            "83/83 [==============================] - 11s 138ms/step - loss: 0.0644 - acc: 0.9800 - val_loss: 0.1285 - val_acc: 0.9660\n",
            "Epoch 8/10\n",
            "83/83 [==============================] - 12s 139ms/step - loss: 0.0475 - acc: 0.9854 - val_loss: 0.1756 - val_acc: 0.9612\n",
            "Epoch 9/10\n",
            "83/83 [==============================] - 13s 156ms/step - loss: 0.0447 - acc: 0.9873 - val_loss: 0.1484 - val_acc: 0.9466\n",
            "Epoch 10/10\n",
            "83/83 [==============================] - 12s 140ms/step - loss: 0.0354 - acc: 0.9891 - val_loss: 0.1834 - val_acc: 0.9369\n"
          ]
        }
      ],
      "source": [
        "history=model.fit(x_train,y_train,validation_data=[x_valid, y_valid], epochs=10, batch_size=20)"
      ]
    },
    {
      "cell_type": "markdown",
      "source": [
        "# **Model Testing**"
      ],
      "metadata": {
        "id": "Jqq9jnyXHZcR"
      }
    },
    {
      "cell_type": "code",
      "source": [
        "loss, accuracy=model.evaluate(x_test,y_test)"
      ],
      "metadata": {
        "colab": {
          "base_uri": "https://localhost:8080/"
        },
        "id": "EYpVmuAKNfE5",
        "outputId": "3d9e8815-df47-4bcb-daac-5858d413e502"
      },
      "execution_count": null,
      "outputs": [
        {
          "output_type": "stream",
          "name": "stdout",
          "text": [
            "7/7 [==============================] - 0s 48ms/step - loss: 0.1040 - acc: 0.9517\n"
          ]
        }
      ]
    },
    {
      "cell_type": "code",
      "source": [
        "model.summary()"
      ],
      "metadata": {
        "colab": {
          "base_uri": "https://localhost:8080/"
        },
        "id": "rxkSBbwBN0rt",
        "outputId": "3d1763ab-3e1b-4d01-aab2-2d6496f711a1"
      },
      "execution_count": null,
      "outputs": [
        {
          "output_type": "stream",
          "name": "stdout",
          "text": [
            "Model: \"sequential\"\n",
            "_________________________________________________________________\n",
            " Layer (type)                Output Shape              Param #   \n",
            "=================================================================\n",
            " conv2d (Conv2D)             (None, 62, 62, 32)        320       \n",
            "                                                                 \n",
            " max_pooling2d (MaxPooling2D  (None, 31, 31, 32)       0         \n",
            " )                                                               \n",
            "                                                                 \n",
            " conv2d_1 (Conv2D)           (None, 29, 29, 64)        18496     \n",
            "                                                                 \n",
            " max_pooling2d_1 (MaxPooling  (None, 14, 14, 64)       0         \n",
            " 2D)                                                             \n",
            "                                                                 \n",
            " conv2d_2 (Conv2D)           (None, 12, 12, 128)       73856     \n",
            "                                                                 \n",
            " max_pooling2d_2 (MaxPooling  (None, 6, 6, 128)        0         \n",
            " 2D)                                                             \n",
            "                                                                 \n",
            " conv2d_3 (Conv2D)           (None, 4, 4, 128)         147584    \n",
            "                                                                 \n",
            " max_pooling2d_3 (MaxPooling  (None, 2, 2, 128)        0         \n",
            " 2D)                                                             \n",
            "                                                                 \n",
            " flatten (Flatten)           (None, 512)               0         \n",
            "                                                                 \n",
            " dense (Dense)               (None, 1024)              525312    \n",
            "                                                                 \n",
            " dense_1 (Dense)             (None, 10)                10250     \n",
            "                                                                 \n",
            "=================================================================\n",
            "Total params: 775,818\n",
            "Trainable params: 775,818\n",
            "Non-trainable params: 0\n",
            "_________________________________________________________________\n"
          ]
        }
      ]
    },
    {
      "cell_type": "code",
      "source": [
        "dic=history.history\n",
        "dic.keys()"
      ],
      "metadata": {
        "colab": {
          "base_uri": "https://localhost:8080/"
        },
        "id": "0sRLpjMpOiES",
        "outputId": "eefb59d7-0074-44df-f9d5-13537bdfb8aa"
      },
      "execution_count": null,
      "outputs": [
        {
          "output_type": "execute_result",
          "data": {
            "text/plain": [
              "dict_keys(['loss', 'acc', 'val_loss', 'val_acc'])"
            ]
          },
          "metadata": {},
          "execution_count": 9
        }
      ]
    },
    {
      "cell_type": "code",
      "source": [
        "loss = history.history['loss']\n",
        "val_loss = history.history['val_loss']\n",
        "epochs = range(1, len(loss) + 1)\n",
        "plt.plot(epochs, loss, 'bo', label='Training loss')\n",
        "plt.plot(epochs, val_loss, 'b', label='Validation loss')\n",
        "plt.title('Training and validation loss')\n",
        "plt.xlabel('Epochs')\n",
        "plt.ylabel('Loss')\n",
        "plt.legend()\n",
        "plt.savefig('b_loss')\n",
        "plt.show()"
      ],
      "metadata": {
        "colab": {
          "base_uri": "https://localhost:8080/",
          "height": 295
        },
        "id": "vYOHR_zNOEPb",
        "outputId": "238a5ac2-4b54-4d89-9d7f-3cf6fd246dff"
      },
      "execution_count": null,
      "outputs": [
        {
          "output_type": "display_data",
          "data": {
            "image/png": "[encoded data removed]",
            "text/plain": [
              "<Figure size 432x288 with 1 Axes>"
            ]
          },
          "metadata": {
            "needs_background": "light"
          }
        }
      ]
    },
    {
      "cell_type": "code",
      "source": [
        "acc = history.history['acc']\n",
        "val_acc = history.history['val_acc']\n",
        "plt.plot(epochs, acc, 'bo', label='Training acc')\n",
        "plt.plot(epochs, val_acc, 'b', label='Validation acc')\n",
        "plt.title('Training and validation accuracy')\n",
        "plt.xlabel('Epochs')\n",
        "plt.ylabel('Loss')\n",
        "plt.legend()\n",
        "plt.savefig('b_acc')\n",
        "plt.show()"
      ],
      "metadata": {
        "colab": {
          "base_uri": "https://localhost:8080/",
          "height": 295
        },
        "id": "kJm2DanTOYlp",
        "outputId": "e4089963-5a6e-424e-ce0e-5edcc47fbf8e"
      },
      "execution_count": null,
      "outputs": [
        {
          "output_type": "display_data",
          "data": {
            "image/png": "[encoded data removed]",
            "text/plain": [
              "<Figure size 432x288 with 1 Axes>"
            ]
          },
          "metadata": {
            "needs_background": "light"
          }
        }
      ]
    }
  ],
  "metadata": {
    "colab": {
      "name": "CNN_task1.ipynb",
      "provenance": [],
      "collapsed_sections": []
    },
    "kernelspec": {
      "display_name": "Python 3",
      "name": "python3"
    },
    "language_info": {
      "name": "python"
    }
  },
  "nbformat": 4,
  "nbformat_minor": 0
}