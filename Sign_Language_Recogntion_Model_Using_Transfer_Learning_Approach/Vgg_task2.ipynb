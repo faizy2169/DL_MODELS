{
  "nbformat": 4,
  "nbformat_minor": 0,
  "metadata": {
    "colab": {
      "name": "Vgg_task2.ipynb",
      "provenance": [],
      "collapsed_sections": []
    },
    "kernelspec": {
      "name": "python3",
      "display_name": "Python 3"
    },
    "language_info": {
      "name": "python"
    }
  },
  "cells": [
    {
      "cell_type": "code",
      "execution_count": null,
      "metadata": {
        "id": "ho3LFf79hsjx"
      },
      "outputs": [],
      "source": [
        "from tensorflow.python.keras.callbacks import History\n",
        "import tensorflow\n",
        "from tensorflow import keras\n",
        "from sklearn.model_selection import train_test_split\n",
        "import numpy as np\n",
        "import matplotlib.pyplot as plt\n",
        "from tensorflow.keras import models\n",
        "from tensorflow.keras import layers\n",
        "from keras.applications.vgg16 import VGG16\n",
        "from keras.applications.vgg16 import preprocess_input\n",
        "from keras.preprocessing.image import load_img, save_img, img_to_array\n",
        "from keras.applications.imagenet_utils import preprocess_input\n",
        "from keras.preprocessing.image import ImageDataGenerator\n",
        "from keras.callbacks import History\n",
        "from PIL import Image\n",
        "from skimage.color import gray2rgb"
      ]
    },
    {
      "cell_type": "markdown",
      "source": [
        "# **Loading Sign language recognition data**"
      ],
      "metadata": {
        "id": "PFmfMtt_pxMJ"
      }
    },
    {
      "cell_type": "code",
      "source": [
        "X=np.load('/content/drive/MyDrive/sign/X.npy')\n",
        "Y=np.load('/content/drive/MyDrive/sign/Y.npy')\n",
        "print(X.shape, Y.shape)"
      ],
      "metadata": {
        "id": "3IAFqCBtmbZy",
        "colab": {
          "base_uri": "https://localhost:8080/"
        },
        "outputId": "03627bfd-8aa3-413d-f1e3-a597b2702049"
      },
      "execution_count": null,
      "outputs": [
        {
          "output_type": "stream",
          "name": "stdout",
          "text": [
            "(2062, 64, 64) (2062, 10)\n"
          ]
        }
      ]
    },
    {
      "cell_type": "markdown",
      "source": [
        "# **Splitting dataset**"
      ],
      "metadata": {
        "id": "c6UKDHmGqCPz"
      }
    },
    {
      "cell_type": "code",
      "source": [
        "x_train, x_rem, y_train, y_rem = train_test_split(X,Y, train_size=0.8)\n",
        "x_valid, x_test, y_valid, y_test=train_test_split(x_rem,y_rem, test_size=0.5)\n",
        "x_train = np.repeat(x_train[..., np.newaxis], 3, -1)\n",
        "x_test= np.repeat(x_test[..., np.newaxis], 3, -1)\n",
        "x_valid= np.repeat(x_valid[..., np.newaxis], 3, -1)\n",
        "\n",
        "print(x_train.shape,y_train.shape,x_test.shape,y_test.shape,x_valid.shape,y_valid.shape)\n"
      ],
      "metadata": {
        "id": "XyZw_kYenAss",
        "colab": {
          "base_uri": "https://localhost:8080/"
        },
        "outputId": "6ac34c2c-c567-4522-9fb2-d8044bde40c9"
      },
      "execution_count": null,
      "outputs": [
        {
          "output_type": "stream",
          "name": "stdout",
          "text": [
            "(1649, 64, 64, 3) (1649, 10) (207, 64, 64, 3) (207, 10) (206, 64, 64, 3) (206, 10)\n"
          ]
        }
      ]
    },
    {
      "cell_type": "markdown",
      "source": [
        "# **Using Pretrained Model VGG16 (transfer learning)**"
      ],
      "metadata": {
        "id": "gmsxAVAcqhYT"
      }
    },
    {
      "cell_type": "code",
      "source": [
        "conv_base=VGG16(include_top=False, weights='imagenet',input_shape=(64,64,3))\n",
        "conv_base.trainable=False"
      ],
      "metadata": {
        "id": "UuFC9fEwqP2H",
        "colab": {
          "base_uri": "https://localhost:8080/"
        },
        "outputId": "0726e8d1-376d-4fed-ac27-55d709da8463"
      },
      "execution_count": null,
      "outputs": [
        {
          "output_type": "stream",
          "name": "stdout",
          "text": [
            "Downloading data from https://storage.googleapis.com/tensorflow/keras-applications/vgg16/vgg16_weights_tf_dim_ordering_tf_kernels_notop.h5\n",
            "58892288/58889256 [==============================] - 0s 0us/step\n",
            "58900480/58889256 [==============================] - 0s 0us/step\n"
          ]
        }
      ]
    },
    {
      "cell_type": "markdown",
      "source": [
        "# **Model Architecture**"
      ],
      "metadata": {
        "id": "zrQfiXVdrEv9"
      }
    },
    {
      "cell_type": "code",
      "source": [
        "network=models.Sequential()\n",
        "network.add(conv_base)\n",
        "network.add(layers.Flatten())\n",
        "network.add(layers.Dense(1024, activation='relu'))\n",
        "network.add(layers.Dense(256, activation='relu'))\n",
        "network.add(layers.Dense(10, activation='softmax'))\n",
        "network.compile(optimizer='rmsprop',loss='categorical_crossentropy',metrics=['accuracy'])"
      ],
      "metadata": {
        "id": "70n9jeCdt-qk"
      },
      "execution_count": null,
      "outputs": []
    },
    {
      "cell_type": "markdown",
      "source": [
        "# **Model Training**"
      ],
      "metadata": {
        "id": "-YuA72Rhl-hi"
      }
    },
    {
      "cell_type": "code",
      "source": [
        "history=network.fit(x_train,y_train, validation_data=[x_valid, y_valid], epochs=10, batch_size=20)"
      ],
      "metadata": {
        "colab": {
          "base_uri": "https://localhost:8080/"
        },
        "id": "O7aUf7kLxKU9",
        "outputId": "dc512c65-3ca1-4c25-f57b-6392096ca1ce"
      },
      "execution_count": null,
      "outputs": [
        {
          "output_type": "stream",
          "name": "stdout",
          "text": [
            "Epoch 1/10\n",
            "83/83 [==============================] - 93s 1s/step - loss: 1.4838 - accuracy: 0.5003 - val_loss: 0.9789 - val_accuracy: 0.6262\n",
            "Epoch 2/10\n",
            "83/83 [==============================] - 95s 1s/step - loss: 0.6925 - accuracy: 0.7538 - val_loss: 0.5041 - val_accuracy: 0.8107\n",
            "Epoch 3/10\n",
            "83/83 [==============================] - 81s 980ms/step - loss: 0.5123 - accuracy: 0.8108 - val_loss: 0.6388 - val_accuracy: 0.7379\n",
            "Epoch 4/10\n",
            "83/83 [==============================] - 79s 950ms/step - loss: 0.3910 - accuracy: 0.8496 - val_loss: 0.6074 - val_accuracy: 0.7524\n",
            "Epoch 5/10\n",
            "83/83 [==============================] - 80s 969ms/step - loss: 0.3409 - accuracy: 0.8781 - val_loss: 0.3624 - val_accuracy: 0.8786\n",
            "Epoch 6/10\n",
            "83/83 [==============================] - 79s 950ms/step - loss: 0.2664 - accuracy: 0.9036 - val_loss: 0.2677 - val_accuracy: 0.8981\n",
            "Epoch 7/10\n",
            "83/83 [==============================] - 79s 950ms/step - loss: 0.2646 - accuracy: 0.9078 - val_loss: 0.5408 - val_accuracy: 0.8447\n",
            "Epoch 8/10\n",
            "83/83 [==============================] - 79s 952ms/step - loss: 0.2193 - accuracy: 0.9236 - val_loss: 0.3557 - val_accuracy: 0.8641\n",
            "Epoch 9/10\n",
            "83/83 [==============================] - 79s 951ms/step - loss: 0.2014 - accuracy: 0.9260 - val_loss: 0.4759 - val_accuracy: 0.8350\n",
            "Epoch 10/10\n",
            "83/83 [==============================] - 79s 951ms/step - loss: 0.2037 - accuracy: 0.9327 - val_loss: 0.4197 - val_accuracy: 0.8786\n"
          ]
        }
      ]
    },
    {
      "cell_type": "markdown",
      "source": [
        "# **Model Prediction**"
      ],
      "metadata": {
        "id": "pUf4EQ79mMay"
      }
    },
    {
      "cell_type": "code",
      "source": [
        "loss, accuracy=network.evaluate(x_test,y_test)"
      ],
      "metadata": {
        "id": "r1iupw0mrY5j",
        "colab": {
          "base_uri": "https://localhost:8080/"
        },
        "outputId": "62f605aa-0ae1-4273-eed2-ce5e50175b8d"
      },
      "execution_count": null,
      "outputs": [
        {
          "output_type": "stream",
          "name": "stdout",
          "text": [
            "7/7 [==============================] - 9s 1s/step - loss: 0.4365 - accuracy: 0.8696\n"
          ]
        }
      ]
    },
    {
      "cell_type": "code",
      "source": [
        "network.summary()"
      ],
      "metadata": {
        "colab": {
          "base_uri": "https://localhost:8080/"
        },
        "id": "q_vaIJ7kpEnj",
        "outputId": "061fd1aa-14f3-48e9-d44b-9f14680ae130"
      },
      "execution_count": null,
      "outputs": [
        {
          "output_type": "stream",
          "name": "stdout",
          "text": [
            "Model: \"sequential\"\n",
            "_________________________________________________________________\n",
            " Layer (type)                Output Shape              Param #   \n",
            "=================================================================\n",
            " vgg16 (Functional)          (None, 2, 2, 512)         14714688  \n",
            "                                                                 \n",
            " flatten (Flatten)           (None, 2048)              0         \n",
            "                                                                 \n",
            " dense (Dense)               (None, 1024)              2098176   \n",
            "                                                                 \n",
            " dense_1 (Dense)             (None, 256)               262400    \n",
            "                                                                 \n",
            " dense_2 (Dense)             (None, 10)                2570      \n",
            "                                                                 \n",
            "=================================================================\n",
            "Total params: 17,077,834\n",
            "Trainable params: 2,363,146\n",
            "Non-trainable params: 14,714,688\n",
            "_________________________________________________________________\n"
          ]
        }
      ]
    },
    {
      "cell_type": "code",
      "source": [
        "loss = history.history['loss']\n",
        "val_loss = history.history['val_loss']\n",
        "epochs = range(1, len(loss) + 1)\n",
        "plt.plot(epochs, loss, 'bo', label='Training loss')\n",
        "plt.plot(epochs, val_loss, 'b', label='Validation loss')\n",
        "plt.title('Training and validation loss')\n",
        "plt.xlabel('Epochs')\n",
        "plt.ylabel('Loss')\n",
        "plt.legend()\n",
        "plt.savefig('loss')\n",
        "plt.show()"
      ],
      "metadata": {
        "id": "GDA1KmDXr9jv",
        "colab": {
          "base_uri": "https://localhost:8080/",
          "height": 295
        },
        "outputId": "55f29022-61f0-45be-c9a3-7b004a0861e2"
      },
      "execution_count": null,
      "outputs": [
        {
          "output_type": "display_data",
          "data": {
            "image/png": "[encoded data removed]",
            "text/plain": [
              "<Figure size 432x288 with 1 Axes>"
            ]
          },
          "metadata": {
            "needs_background": "light"
          }
        }
      ]
    },
    {
      "cell_type": "code",
      "source": [
        "acc = history.history['accuracy']\n",
        "val_acc = history.history['val_accuracy']\n",
        "plt.plot(epochs, acc, 'bo', label='Training acc')\n",
        "plt.plot(epochs, val_acc, 'b', label='Validation acc')\n",
        "plt.title('Training and validation accuracy')\n",
        "plt.xlabel('Epochs')\n",
        "plt.ylabel('Loss')\n",
        "plt.legend()\n",
        "plt.savefig('acc')\n",
        "plt.show()"
      ],
      "metadata": {
        "id": "wblH0u3gCK1T",
        "outputId": "d063caea-c8d0-4b3f-844a-e2c9ab7528f4",
        "colab": {
          "base_uri": "https://localhost:8080/",
          "height": 295
        }
      },
      "execution_count": null,
      "outputs": [
        {
          "output_type": "display_data",
          "data": {
            "image/png": "[encoded data removed]",
            "text/plain": [
              "<Figure size 432x288 with 1 Axes>"
            ]
          },
          "metadata": {
            "needs_background": "light"
          }
        }
      ]
    }
  ]
}